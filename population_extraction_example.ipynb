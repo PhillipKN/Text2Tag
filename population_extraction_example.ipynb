{
 "cells": [
  {
   "cell_type": "code",
   "execution_count": 1,
   "id": "357365fa-cab2-45ce-9e50-b95523356d50",
   "metadata": {},
   "outputs": [],
   "source": [
    "import pandas as pd\n",
    "import numpy as np\n",
    "\n",
    "from Text2Tags.utils import population_recovery"
   ]
  },
  {
   "cell_type": "code",
   "execution_count": 2,
   "id": "4cd74bec-1c6b-4565-81a4-f42b945d7131",
   "metadata": {},
   "outputs": [
    {
     "name": "stdout",
     "output_type": "stream",
     "text": [
      "['J202000-555309', 'J202221-564850', 'J202500-545310', 'J202712-562949', 'J202948-544946', 'J203454-550038', 'J203531-571542', 'J205024-551728', 'J205122-571028', 'J205613-564241', 'J205737-570052', 'J210026-555346', 'J210216-542336']\n"
     ]
    }
   ],
   "source": [
    "selected_sources = population_recovery(\n",
    "    required_tags=[\"hourglass\"], \n",
    "    excluded_tags=[\"amorphous\", \"traces host galaxy\", \"bent\"]\n",
    ")\n",
    "print(selected_sources)"
   ]
  }
 ],
 "metadata": {
  "kernelspec": {
   "display_name": "Python 3 (ipykernel)",
   "language": "python",
   "name": "python3"
  },
  "language_info": {
   "codemirror_mode": {
    "name": "ipython",
    "version": 3
   },
   "file_extension": ".py",
   "mimetype": "text/x-python",
   "name": "python",
   "nbconvert_exporter": "python",
   "pygments_lexer": "ipython3",
   "version": "3.8.10"
  }
 },
 "nbformat": 4,
 "nbformat_minor": 5
}
